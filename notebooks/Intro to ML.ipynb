{
 "cells": [
  {
   "cell_type": "markdown",
   "metadata": {},
   "source": [
    "# Introduction to Machine Learning\n",
    "\n",
    "Machine learning is concerned with the development of algorithms that improve their performance at given tasks with experience. Examples include:\n",
    "1. Speech recognition\n",
    "1. Image recognition\n",
    "1. Autonomous driving\n",
    "\n",
    "Take for example an algorithm that is designed to determine the class of a given hand written digit. This task is known as $\\textbf{classification}$ and involves assigning inputs to the algorithm to various classes. In this case, the digits are drawn from one of $\\{0, 1, \\ldots, 9\\}$. Examples from the famous [MNIST](http://yann.lecun.com/exdb/mnist/) data set are shown below\n",
    "\n",
    "![](../figures/MnistExamples.png)\n",
    "\n",
    "Given a single image as input, a machine learning algorithm would return the correct class. This can be expressed as a function mapping the set to images to the set $\\{0, 1, \\ldots, 9\\}$."
   ]
  },
  {
   "cell_type": "code",
   "execution_count": null,
   "metadata": {
    "collapsed": true
   },
   "outputs": [],
   "source": []
  }
 ],
 "metadata": {
  "kernelspec": {
   "display_name": "Python 3",
   "language": "python",
   "name": "python3"
  },
  "language_info": {
   "codemirror_mode": {
    "name": "ipython",
    "version": 3
   },
   "file_extension": ".py",
   "mimetype": "text/x-python",
   "name": "python",
   "nbconvert_exporter": "python",
   "pygments_lexer": "ipython3",
   "version": "3.5.3"
  }
 },
 "nbformat": 4,
 "nbformat_minor": 2
}
