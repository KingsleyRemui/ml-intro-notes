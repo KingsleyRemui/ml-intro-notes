{
 "cells": [
  {
   "cell_type": "markdown",
   "metadata": {},
   "source": [
    "# Introduction to Machine Learning\n",
    "\n",
    "Machine learning is concerned with the development of computer algorithms that improve their performance at given tasks with experience. Examples include:\n",
    "1. Speech recognition\n",
    "1. Image recognition\n",
    "1. Autonomous driving\n",
    "\n",
    "Take for example an algorithm that is designed to determine the class of a given hand written digit. This task is known as $\\textbf{classification}$ and involves assigning inputs to the algorithm to various classes. In this case, the digits are drawn from one of $\\{0, 1, \\ldots, 9\\}$. Examples from the famous [MNIST](http://yann.lecun.com/exdb/mnist/) data set are shown below\n",
    "\n",
    "![](../figures/MnistExamples.png)\n",
    "\n",
    "Given a single image as input, a machine learning algorithm would return the correct class. This can be expressed as a function mapping the set to images to the set $\\{0, 1, \\ldots, 9\\}$. \n",
    "\n",
    "How do we go about building such an algorithm? We need the following ingredients\n",
    "1. Data: Our algorithm will learn from experience which takes the form of labelled data examples. These could be images with a single digits\n",
    "2. We need a model that takes as input the image and returns the likely digit. This model will improve with access to more data\n",
    "3. We need a performance measure. How do we determine that the algorithm is improving with experience? This could involve measuring accuracy.\n",
    "4. A learning algorithm. Models often contain parameters whose values are modified to improve performance. The learning algorithm modifies these parameter values to improve performance.\n",
    "\n",
    "## Machine Learning in Action\n",
    "Let us explore machine learning using a concrete example in image recognition.\n",
    "\n",
    "### Image recognition\n",
    "We will see the steps involved in building an algorithm capable of recognising hand written digits. We start off with the data. We will us MNIST data which contains 70000 examples with labels. Lets obtain the data which are freely available. Often in applications, you have to obtain and label your own data!"
   ]
  },
  {
   "cell_type": "code",
   "execution_count": 1,
   "metadata": {},
   "outputs": [
    {
     "name": "stderr",
     "output_type": "stream",
     "text": [
      "Using TensorFlow backend.\n"
     ]
    }
   ],
   "source": [
    "# data acquisition\n",
    "from keras.datasets import mnist\n",
    "# the data, shuffled and split between train and test sets\n",
    "(X_train, y_train), (X_test, y_test) = mnist.load_data()"
   ]
  },
  {
   "cell_type": "markdown",
   "metadata": {},
   "source": [
    "#### Data \n",
    "The data is divided into two sets, a training set and a test set. We use the training set to modify the parameters of our model and then use the test set to assess the performance.\n",
    "\n",
    "One of the first things to do with any data set is to visualise it. Let's visualise a random image."
   ]
  },
  {
   "cell_type": "code",
   "execution_count": 2,
   "metadata": {},
   "outputs": [
    {
     "data": {
      "text/plain": [
       "<matplotlib.text.Text at 0x7f7970752dd8>"
      ]
     },
     "execution_count": 2,
     "metadata": {},
     "output_type": "execute_result"
    },
    {
     "data": {
      "image/png": "[encoded data removed]",
      "text/plain": [
       "<matplotlib.figure.Figure at 0x7f79797e1f60>"
      ]
     },
     "metadata": {},
     "output_type": "display_data"
    }
   ],
   "source": [
    "import random\n",
    "import matplotlib.pyplot as plt\n",
    "index = random.choice(range(X_train.shape[0]))\n",
    "\n",
    "\n",
    "%matplotlib inline\n",
    "plt.figure()\n",
    "plt.imshow(X_train[index]);\n",
    "plt.xticks([])\n",
    "plt.yticks([])\n",
    "plt.title(y_train[index])"
   ]
  },
  {
   "cell_type": "markdown",
   "metadata": {},
   "source": [
    "The digits are 28-by-28 pixels grayscale images which we represent as a matrix of numbers between 0 and 255 (8 bits per pixel)"
   ]
  },
  {
   "cell_type": "code",
   "execution_count": 3,
   "metadata": {},
   "outputs": [
    {
     "data": {
      "text/plain": [
       "(28, 28)"
      ]
     },
     "execution_count": 3,
     "metadata": {},
     "output_type": "execute_result"
    }
   ],
   "source": [
    "X_train[index].shape"
   ]
  },
  {
   "cell_type": "code",
   "execution_count": 4,
   "metadata": {},
   "outputs": [
    {
     "name": "stdout",
     "output_type": "stream",
     "text": [
      "0 255\n"
     ]
    }
   ],
   "source": [
    "print(X_train[index].min(), X_train[index].max())"
   ]
  },
  {
   "cell_type": "markdown",
   "metadata": {},
   "source": [
    "In addition we flatten the matrix into a vector of length 784 and normalise the elements of the vector to the range $[0, 1]$"
   ]
  },
  {
   "cell_type": "code",
   "execution_count": 5,
   "metadata": {
    "collapsed": true
   },
   "outputs": [],
   "source": [
    "X_train = X_train.reshape(60000, 784)\n",
    "X_test = X_test.reshape(10000, 784)\n",
    "X_train = X_train.astype('float32')\n",
    "X_test = X_test.astype('float32')\n",
    "X_train /= 255\n",
    "X_test /= 255"
   ]
  },
  {
   "cell_type": "markdown",
   "metadata": {},
   "source": [
    "We also turn our labels into what is known as a one hot encoding. These are binary vectors where only one element is 1 and the rest are zero. "
   ]
  },
  {
   "cell_type": "code",
   "execution_count": 6,
   "metadata": {},
   "outputs": [],
   "source": [
    "# convert class vectors to binary class matrices\n",
    "from keras.utils import np_utils\n",
    "num_digits = 10\n",
    "\n",
    "Y_train = np_utils.to_categorical(y_train, num_digits)\n",
    "Y_test = np_utils.to_categorical(y_test, num_digits)"
   ]
  },
  {
   "cell_type": "code",
   "execution_count": 7,
   "metadata": {},
   "outputs": [
    {
     "name": "stdout",
     "output_type": "stream",
     "text": [
      "9\n",
      "[ 0.  0.  0.  0.  0.  0.  0.  0.  0.  1.]\n"
     ]
    }
   ],
   "source": [
    "print(y_train[index])\n",
    "print(Y_train[index])"
   ]
  },
  {
   "cell_type": "markdown",
   "metadata": {},
   "source": [
    "#### Model\n",
    "Next we create a model which will learn from the data. We will ignore the details for now but it is a multilayer perceptron whose output is the probability of the image belonging to each of the 10 digit classes."
   ]
  },
  {
   "cell_type": "code",
   "execution_count": 8,
   "metadata": {
    "collapsed": true
   },
   "outputs": [],
   "source": [
    "from models import create_mnist_model\n",
    "model = create_mnist_model()"
   ]
  },
  {
   "cell_type": "markdown",
   "metadata": {},
   "source": [
    "As it is, the model parameters are random and we would not expect it to perform well. "
   ]
  },
  {
   "cell_type": "code",
   "execution_count": 9,
   "metadata": {},
   "outputs": [
    {
     "name": "stdout",
     "output_type": "stream",
     "text": [
      "\r",
      "1/1 [==============================] - 0s 33ms/step\n"
     ]
    },
    {
     "data": {
      "text/plain": [
       "array([2])"
      ]
     },
     "execution_count": 9,
     "metadata": {},
     "output_type": "execute_result"
    },
    {
     "data": {
      "image/png": "[encoded data removed]",
      "text/plain": [
       "<matplotlib.figure.Figure at 0x7f797962ec50>"
      ]
     },
     "metadata": {},
     "output_type": "display_data"
    }
   ],
   "source": [
    "test_index = random.choice(range(X_test.shape[0]))\n",
    "plt.figure()\n",
    "plt.imshow(X_test[test_index].reshape(28, 28));\n",
    "plt.xticks([])\n",
    "plt.yticks([])\n",
    "plt.title(y_test[test_index])\n",
    "\n",
    "\n",
    "model.predict_classes(X_test[test_index, :][None, :])"
   ]
  },
  {
   "cell_type": "markdown",
   "metadata": {},
   "source": [
    "#### Training\n",
    "We now use the training data to improve the model performance."
   ]
  },
  {
   "cell_type": "code",
   "execution_count": 10,
   "metadata": {},
   "outputs": [
    {
     "name": "stdout",
     "output_type": "stream",
     "text": [
      "Train on 60000 samples, validate on 10000 samples\n",
      "Epoch 1/2\n",
      "60000/60000 [==============================] - 77s 1ms/step - loss: 0.2823 - acc: 0.9321 - val_loss: 0.1874 - val_acc: 0.9658\n",
      "Epoch 2/2\n",
      "60000/60000 [==============================] - 69s 1ms/step - loss: 0.2621 - acc: 0.9569 - val_loss: 0.2783 - val_acc: 0.9589\n"
     ]
    },
    {
     "data": {
      "text/plain": [
       "<keras.callbacks.History at 0x7f79c9de75f8>"
      ]
     },
     "execution_count": 10,
     "metadata": {},
     "output_type": "execute_result"
    }
   ],
   "source": [
    "batch_size = 10\n",
    "num_epoch = 2\n",
    "model.fit(X_train, \n",
    "          Y_train, \n",
    "          batch_size=batch_size, \n",
    "          epochs=num_epoch, verbose=1, \n",
    "          validation_data=(X_test, Y_test))"
   ]
  },
  {
   "cell_type": "markdown",
   "metadata": {},
   "source": [
    "#### Evaluation\n",
    "After training lets see how the model performs."
   ]
  },
  {
   "cell_type": "code",
   "execution_count": 11,
   "metadata": {},
   "outputs": [
    {
     "name": "stdout",
     "output_type": "stream",
     "text": [
      "Test score: 0.278253447118\n",
      "Test accuracy: 0.9589\n"
     ]
    }
   ],
   "source": [
    "score = model.evaluate(X_test, Y_test, verbose=0)\n",
    "print('Test score:', score[0])\n",
    "print('Test accuracy:', score[1])"
   ]
  },
  {
   "cell_type": "code",
   "execution_count": 12,
   "metadata": {},
   "outputs": [
    {
     "name": "stdout",
     "output_type": "stream",
     "text": [
      "\r",
      "1/1 [==============================] - 0s 2ms/step\n"
     ]
    },
    {
     "data": {
      "text/plain": [
       "array([0])"
      ]
     },
     "execution_count": 12,
     "metadata": {},
     "output_type": "execute_result"
    }
   ],
   "source": [
    "model.predict_classes(X_test[test_index, :][None, :])"
   ]
  },
  {
   "cell_type": "markdown",
   "metadata": {},
   "source": [
    "In the coming weeks and months, we will delve deeper into each of the steps listed and explore other applications."
   ]
  },
  {
   "cell_type": "code",
   "execution_count": null,
   "metadata": {
    "collapsed": true
   },
   "outputs": [],
   "source": []
  }
 ],
 "metadata": {
  "kernelspec": {
   "display_name": "Python 3",
   "language": "python",
   "name": "python3"
  },
  "language_info": {
   "codemirror_mode": {
    "name": "ipython",
    "version": 3
   },
   "file_extension": ".py",
   "mimetype": "text/x-python",
   "name": "python",
   "nbconvert_exporter": "python",
   "pygments_lexer": "ipython3",
   "version": "3.5.3"
  }
 },
 "nbformat": 4,
 "nbformat_minor": 2
}
